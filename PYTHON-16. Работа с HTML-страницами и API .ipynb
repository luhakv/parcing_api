{
 "cells": [
  {
   "cell_type": "markdown",
   "metadata": {},
   "source": [
    "## Юнит 7. Основные алгоритмы машинного обучения. Часть II \n",
    "### Skillfactory: DSPR-19\n",
    "### PYTHON-16. Работа с HTML-страницами и API "
   ]
  },
  {
   "cell_type": "markdown",
   "metadata": {},
   "source": [
    "#### Введение\n",
    "\n",
    "В предыдущих модулях вы видели, как работать с данными. В реальных проектах данные зачастую не лежат в готовом виде, и для анализа вам нужно сначала их собрать, например, скопировав со сторонних веб-сайтов.\n",
    "\n",
    "В этом модуле мы рассмотрим, как Python позволяет упростить подобный сбор информации и даже получить доступ к данным, которые руками собрать невозможно. В частности, мы рассмотрим:\n",
    "\n",
    "- в каком виде информация обычно располагается в интернете;\n",
    "- напишем скрипты, которые собирают данные с веб-сайтов, используя библиотеки requests и BeautifulSoup;\n",
    "- разберёмся, что такое программный интерфейс веб-сервисов (API) и как его использовать; для примера мы будем забирать данные из ВКонтакте.\n",
    "\n",
    "К концу модуля вы сможете писать программы, которые могут избавить вас от многих часов монотонной работы и расширят спектр собираемой информации."
   ]
  },
  {
   "cell_type": "markdown",
   "metadata": {},
   "source": [
    "### 1. Web-запросы\n"
   ]
  },
  {
   "cell_type": "markdown",
   "metadata": {},
   "source": [
    "Начнем с основ автоматизированных веб-запросов на примере задачи получения курсов валют. Курс валют – полезная и регулярно обновляемая информация, но залезать каждый раз на сайт за ней – трудоёмко. Значит, вам нужен скрипт, который будет в удобном виде выгружать информацию по курсам валют.\n",
    "\n",
    "Будем использовать сервис cbr-xml-daily.ru. Он возвращает информацию о курсах валют в структурированном формате JSON, и в дальнейшем мы расширим этот подход на произвольные html страницы.\n",
    "\n",
    "Итак, нам необходима функция, возвращающая курс заданной валюты в двух форматах:\n",
    "\n",
    "1. Только значение курса валюты.\n",
    "\n",
    "2. Полную информацию о валюте: курс, название, номинал и другие характеристики."
   ]
  },
  {
   "cell_type": "markdown",
   "metadata": {},
   "source": [
    "#### Протокол HTTP\n",
    "Запрос в http состоит из нескольких частей:\n",
    "\n",
    "адрес, по которому мы обращаемся (это то, что вы вводите в строке браузера, например, www.google.com);\n",
    "техническая информация, вроде кукисов и метода запроса;\n",
    "иногда ещё дополнительные данные, например, если вы сами загружаете картинку.\n",
    "Ответ содержит:\n",
    "\n",
    "статус ответа: 200 для успешного ответа; 404, если адрес не найден и т.д.; полный список http статусов можно посмотреть здесь ;\n",
    "текст в запрошенном формате (html, xml, json...) или мультимедийные файлы; \n",
    "техническую информацию.\n",
    "В протоколе HTTP запросы могут делаться с помощью одного из так называемых методов. Самые популярные — это GET и POST .\n",
    "\n",
    "Метод GET просто получает текстовую информацию или мультимедийный файл по адресу. Вы как бы говорите: \"Хочу получить страницу по адресу www.google.com\" , и сервер вам отвечает: \"200, ок, держи вот html\". Это самый базовый метод.\n",
    "Метод POST служит для отправки форм; помимо адреса он может \"заворачивать\" в себя дополнительные данные, вроде полей формы или картинок. Вы как бы \"заворачиваете\" посылку и отдаёте её почтальону. \n",
    "Обычно всю эту работу делает браузер, но мы можем делать эти же запросы из кода. Мы могли бы даже написать свой маленький браузер на python, но в этом модуле мы сосредоточимся на автоматическом сборе информации."
   ]
  },
  {
   "cell_type": "markdown",
   "metadata": {},
   "source": [
    "### Задание 1 - Клиент-сервер\n",
    "Выберите корректные утверждения\n",
    "\n",
    "Ответ:  \n",
    "- Компьютер, подключенный к сети\n",
    "- POST-запрос служит для отправки форм\n",
    "- Обычно клиент-серверное взаимодействие начинает клиент\n"
   ]
  },
  {
   "cell_type": "markdown",
   "metadata": {},
   "source": [
    "### Задание 2 - Методы HTTP\n",
    "Выберите правильные названия базовых методов HTTP\n",
    "\n",
    "Ответ:  \n",
    "- GET\n",
    "- POST"
   ]
  },
  {
   "cell_type": "code",
   "execution_count": 1,
   "metadata": {},
   "outputs": [],
   "source": [
    "import requests  \n",
    "response = requests.get('https://www.cbr-xml-daily.ru/daily_json.js')  \n"
   ]
  },
  {
   "cell_type": "code",
   "execution_count": 2,
   "metadata": {},
   "outputs": [
    {
     "name": "stdout",
     "output_type": "stream",
     "text": [
      "<Response [200]>\n"
     ]
    }
   ],
   "source": [
    "print(response)  \n",
    "\n"
   ]
  },
  {
   "cell_type": "code",
   "execution_count": 3,
   "metadata": {},
   "outputs": [
    {
     "name": "stdout",
     "output_type": "stream",
     "text": [
      "200\n"
     ]
    }
   ],
   "source": [
    "print(response.status_code)  "
   ]
  },
  {
   "cell_type": "markdown",
   "metadata": {},
   "source": [
    "### Задание 1 - Первый запрос\n",
    "Допустим, вы уже импортировали модуль requests в ваш код. Какая команда сделает GET запрос к сайту https://www.cbr-xml-daily.ru/daily.xml и положит результат в переменную response?\n",
    "\n",
    "response = requests.get('https://www.cbr-xml-daily.ru/daily.xml')  "
   ]
  },
  {
   "cell_type": "markdown",
   "metadata": {},
   "source": [
    "### 3. Читаем результат\n",
    "Мы сделали запрос и получили ответ. Давайте теперь посмотрим, как считывать текст. \n",
    "\n",
    "Адрес, по которому мы обращались, возвращает результат в json формате. Эти данные уже лежат в атрибуте text в полученном ответе response:"
   ]
  },
  {
   "cell_type": "code",
   "execution_count": 4,
   "metadata": {},
   "outputs": [
    {
     "name": "stdout",
     "output_type": "stream",
     "text": [
      "{\n",
      "    \"Date\": \"2021-05-01T11:30:00+03:00\",\n",
      "    \"PreviousDate\": \"2021-04-30T11:30:00+03:00\",\n",
      "    \"PreviousURL\": \"\\/\\/www.cbr-xml-daily.ru\\/archive\\/2021\\/04\\/30\\/daily_json.js\",\n",
      "    \"Timestamp\": \"2021-05-03T17:00:00+03:00\",\n",
      "    \"Valute\": {\n",
      "        \"AUD\": {\n",
      "            \"ID\": \"R01010\",\n",
      "            \"NumCode\": \"036\",\n",
      "            \"CharCode\": \"AUD\",\n",
      "            \"Nominal\": 1,\n",
      "            \"Name\": \"Австралийский доллар\",\n",
      "            \"Value\": 58.1546,\n",
      "            \"Previous\": 57.8546\n",
      "        },\n",
      "        \"AZN\": {\n",
      "            \"ID\": \"R01020A\",\n",
      "            \"NumCode\": \"944\",\n",
      "            \"CharCode\": \"AZN\",\n",
      "            \"Nominal\": 1,\n",
      "            \"Name\": \"Азербайджанский манат\",\n",
      "            \"Value\": 44.0524,\n",
      "            \"Previous\": 43.78\n",
      "        },\n",
      "        \"GBP\": {\n",
      "            \"ID\": \"R01035\",\n",
      "            \"NumCode\": \"826\",\n",
      "            \"CharCode\": \"GBP\",\n",
      "            \"Nominal\": 1,\n",
      "            \"Name\": \"Фунт стерлингов Соединенного королевства\",\n",
      "            \"Value\": 104.1694,\n",
      "            \"Previous\": 103.7782\n",
      "        },\n",
      "        \"AMD\": {\n",
      "            \"ID\": \"R01060\",\n",
      "            \"NumCode\": \"051\",\n",
      "            \"CharCode\": \"AMD\",\n",
      "            \"Nominal\": 100,\n",
      "            \"Name\": \"Армянских драмов\",\n",
      "            \"Value\": 14.3761,\n",
      "            \"Previous\": 14.3095\n",
      "        },\n",
      "        \"BYN\": {\n",
      "            \"ID\": \"R01090B\",\n",
      "            \"NumCode\": \"933\",\n",
      "            \"CharCode\": \"BYN\",\n",
      "            \"Nominal\": 1,\n",
      "            \"Name\": \"Белорусский рубль\",\n",
      "            \"Value\": 29.2398,\n",
      "            \"Previous\": 29.076\n",
      "        },\n",
      "        \"BGN\": {\n",
      "            \"ID\": \"R01100\",\n",
      "            \"NumCode\": \"975\",\n",
      "            \"CharCode\": \"BGN\",\n",
      "            \"Nominal\": 1,\n",
      "            \"Name\": \"Болгарский лев\",\n",
      "            \"Value\": 46.295,\n",
      "            \"Previous\": 46.0714\n",
      "        },\n",
      "        \"BRL\": {\n",
      "            \"ID\": \"R01115\",\n",
      "            \"NumCode\": \"986\",\n",
      "            \"CharCode\": \"BRL\",\n",
      "            \"Nominal\": 1,\n",
      "            \"Name\": \"Бразильский реал\",\n",
      "            \"Value\": 14.0201,\n",
      "            \"Previous\": 13.922\n",
      "        },\n",
      "        \"HUF\": {\n",
      "            \"ID\": \"R01135\",\n",
      "            \"NumCode\": \"348\",\n",
      "            \"CharCode\": \"HUF\",\n",
      "            \"Nominal\": 100,\n",
      "            \"Name\": \"Венгерских форинтов\",\n",
      "            \"Value\": 25.1737,\n",
      "            \"Previous\": 24.9789\n",
      "        },\n",
      "        \"HKD\": {\n",
      "            \"ID\": \"R01200\",\n",
      "            \"NumCode\": \"344\",\n",
      "            \"CharCode\": \"HKD\",\n",
      "            \"Nominal\": 10,\n",
      "            \"Name\": \"Гонконгских долларов\",\n",
      "            \"Value\": 96.3927,\n",
      "            \"Previous\": 95.8189\n",
      "        },\n",
      "        \"DKK\": {\n",
      "            \"ID\": \"R01215\",\n",
      "            \"NumCode\": \"208\",\n",
      "            \"CharCode\": \"DKK\",\n",
      "            \"Nominal\": 1,\n",
      "            \"Name\": \"Датская крона\",\n",
      "            \"Value\": 12.1771,\n",
      "            \"Previous\": 12.1185\n",
      "        },\n",
      "        \"USD\": {\n",
      "            \"ID\": \"R01235\",\n",
      "            \"NumCode\": \"840\",\n",
      "            \"CharCode\": \"USD\",\n",
      "            \"Nominal\": 1,\n",
      "            \"Name\": \"Доллар США\",\n",
      "            \"Value\": 74.8451,\n",
      "            \"Previous\": 74.3823\n",
      "        },\n",
      "        \"EUR\": {\n",
      "            \"ID\": \"R01239\",\n",
      "            \"NumCode\": \"978\",\n",
      "            \"CharCode\": \"EUR\",\n",
      "            \"Nominal\": 1,\n",
      "            \"Name\": \"Евро\",\n",
      "            \"Value\": 90.585,\n",
      "            \"Previous\": 90.1513\n",
      "        },\n",
      "        \"INR\": {\n",
      "            \"ID\": \"R01270\",\n",
      "            \"NumCode\": \"356\",\n",
      "            \"CharCode\": \"INR\",\n",
      "            \"Nominal\": 10,\n",
      "            \"Name\": \"Индийских рупий\",\n",
      "            \"Value\": 10.1059,\n",
      "            \"Previous\": 10.0513\n",
      "        },\n",
      "        \"KZT\": {\n",
      "            \"ID\": \"R01335\",\n",
      "            \"NumCode\": \"398\",\n",
      "            \"CharCode\": \"KZT\",\n",
      "            \"Nominal\": 100,\n",
      "            \"Name\": \"Казахстанских тенге\",\n",
      "            \"Value\": 17.4178,\n",
      "            \"Previous\": 17.3809\n",
      "        },\n",
      "        \"CAD\": {\n",
      "            \"ID\": \"R01350\",\n",
      "            \"NumCode\": \"124\",\n",
      "            \"CharCode\": \"CAD\",\n",
      "            \"Nominal\": 1,\n",
      "            \"Name\": \"Канадский доллар\",\n",
      "            \"Value\": 60.9637,\n",
      "            \"Previous\": 60.4341\n",
      "        },\n",
      "        \"KGS\": {\n",
      "            \"ID\": \"R01370\",\n",
      "            \"NumCode\": \"417\",\n",
      "            \"CharCode\": \"KGS\",\n",
      "            \"Nominal\": 100,\n",
      "            \"Name\": \"Киргизских сомов\",\n",
      "            \"Value\": 88.2325,\n",
      "            \"Previous\": 87.6869\n",
      "        },\n",
      "        \"CNY\": {\n",
      "            \"ID\": \"R01375\",\n",
      "            \"NumCode\": \"156\",\n",
      "            \"CharCode\": \"CNY\",\n",
      "            \"Nominal\": 1,\n",
      "            \"Name\": \"Китайский юань\",\n",
      "            \"Value\": 11.5657,\n",
      "            \"Previous\": 11.5036\n",
      "        },\n",
      "        \"MDL\": {\n",
      "            \"ID\": \"R01500\",\n",
      "            \"NumCode\": \"498\",\n",
      "            \"CharCode\": \"MDL\",\n",
      "            \"Nominal\": 10,\n",
      "            \"Name\": \"Молдавских леев\",\n",
      "            \"Value\": 42.2615,\n",
      "            \"Previous\": 41.9055\n",
      "        },\n",
      "        \"NOK\": {\n",
      "            \"ID\": \"R01535\",\n",
      "            \"NumCode\": \"578\",\n",
      "            \"CharCode\": \"NOK\",\n",
      "            \"Nominal\": 10,\n",
      "            \"Name\": \"Норвежских крон\",\n",
      "            \"Value\": 91.1001,\n",
      "            \"Previous\": 90.6184\n",
      "        },\n",
      "        \"PLN\": {\n",
      "            \"ID\": \"R01565\",\n",
      "            \"NumCode\": \"985\",\n",
      "            \"CharCode\": \"PLN\",\n",
      "            \"Nominal\": 1,\n",
      "            \"Name\": \"Польский злотый\",\n",
      "            \"Value\": 19.8433,\n",
      "            \"Previous\": 19.6534\n",
      "        },\n",
      "        \"RON\": {\n",
      "            \"ID\": \"R01585F\",\n",
      "            \"NumCode\": \"946\",\n",
      "            \"CharCode\": \"RON\",\n",
      "            \"Nominal\": 1,\n",
      "            \"Name\": \"Румынский лей\",\n",
      "            \"Value\": 18.375,\n",
      "            \"Previous\": 18.2906\n",
      "        },\n",
      "        \"XDR\": {\n",
      "            \"ID\": \"R01589\",\n",
      "            \"NumCode\": \"960\",\n",
      "            \"CharCode\": \"XDR\",\n",
      "            \"Nominal\": 1,\n",
      "            \"Name\": \"СДР (специальные права заимствования)\",\n",
      "            \"Value\": 107.6078,\n",
      "            \"Previous\": 106.7096\n",
      "        },\n",
      "        \"SGD\": {\n",
      "            \"ID\": \"R01625\",\n",
      "            \"NumCode\": \"702\",\n",
      "            \"CharCode\": \"SGD\",\n",
      "            \"Nominal\": 1,\n",
      "            \"Name\": \"Сингапурский доллар\",\n",
      "            \"Value\": 56.3593,\n",
      "            \"Previous\": 56.1079\n",
      "        },\n",
      "        \"TJS\": {\n",
      "            \"ID\": \"R01670\",\n",
      "            \"NumCode\": \"972\",\n",
      "            \"CharCode\": \"TJS\",\n",
      "            \"Nominal\": 10,\n",
      "            \"Name\": \"Таджикских сомони\",\n",
      "            \"Value\": 65.6248,\n",
      "            \"Previous\": 65.219\n",
      "        },\n",
      "        \"TRY\": {\n",
      "            \"ID\": \"R01700J\",\n",
      "            \"NumCode\": \"949\",\n",
      "            \"CharCode\": \"TRY\",\n",
      "            \"Nominal\": 10,\n",
      "            \"Name\": \"Турецких лир\",\n",
      "            \"Value\": 90.9407,\n",
      "            \"Previous\": 91.0666\n",
      "        },\n",
      "        \"TMT\": {\n",
      "            \"ID\": \"R01710A\",\n",
      "            \"NumCode\": \"934\",\n",
      "            \"CharCode\": \"TMT\",\n",
      "            \"Nominal\": 1,\n",
      "            \"Name\": \"Новый туркменский манат\",\n",
      "            \"Value\": 21.4149,\n",
      "            \"Previous\": 21.2825\n",
      "        },\n",
      "        \"UZS\": {\n",
      "            \"ID\": \"R01717\",\n",
      "            \"NumCode\": \"860\",\n",
      "            \"CharCode\": \"UZS\",\n",
      "            \"Nominal\": 10000,\n",
      "            \"Name\": \"Узбекских сумов\",\n",
      "            \"Value\": 71.2193,\n",
      "            \"Previous\": 70.739\n",
      "        },\n",
      "        \"UAH\": {\n",
      "            \"ID\": \"R01720\",\n",
      "            \"NumCode\": \"980\",\n",
      "            \"CharCode\": \"UAH\",\n",
      "            \"Nominal\": 10,\n",
      "            \"Name\": \"Украинских гривен\",\n",
      "            \"Value\": 26.9783,\n",
      "            \"Previous\": 26.8362\n",
      "        },\n",
      "        \"CZK\": {\n",
      "            \"ID\": \"R01760\",\n",
      "            \"NumCode\": \"203\",\n",
      "            \"CharCode\": \"CZK\",\n",
      "            \"Nominal\": 10,\n",
      "            \"Name\": \"Чешских крон\",\n",
      "            \"Value\": 35.0005,\n",
      "            \"Previous\": 34.8395\n",
      "        },\n",
      "        \"SEK\": {\n",
      "            \"ID\": \"R01770\",\n",
      "            \"NumCode\": \"752\",\n",
      "            \"CharCode\": \"SEK\",\n",
      "            \"Nominal\": 10,\n",
      "            \"Name\": \"Шведских крон\",\n",
      "            \"Value\": 89.1024,\n",
      "            \"Previous\": 88.9868\n",
      "        },\n",
      "        \"CHF\": {\n",
      "            \"ID\": \"R01775\",\n",
      "            \"NumCode\": \"756\",\n",
      "            \"CharCode\": \"CHF\",\n",
      "            \"Nominal\": 1,\n",
      "            \"Name\": \"Швейцарский франк\",\n",
      "            \"Value\": 82.2654,\n",
      "            \"Previous\": 81.6849\n",
      "        },\n",
      "        \"ZAR\": {\n",
      "            \"ID\": \"R01810\",\n",
      "            \"NumCode\": \"710\",\n",
      "            \"CharCode\": \"ZAR\",\n",
      "            \"Nominal\": 10,\n",
      "            \"Name\": \"Южноафриканских рэндов\",\n",
      "            \"Value\": 52.0658,\n",
      "            \"Previous\": 52.3878\n",
      "        },\n",
      "        \"KRW\": {\n",
      "            \"ID\": \"R01815\",\n",
      "            \"NumCode\": \"410\",\n",
      "            \"CharCode\": \"KRW\",\n",
      "            \"Nominal\": 1000,\n",
      "            \"Name\": \"Вон Республики Корея\",\n",
      "            \"Value\": 67.2396,\n",
      "            \"Previous\": 67.1463\n",
      "        },\n",
      "        \"JPY\": {\n",
      "            \"ID\": \"R01820\",\n",
      "            \"NumCode\": \"392\",\n",
      "            \"CharCode\": \"JPY\",\n",
      "            \"Nominal\": 100,\n",
      "            \"Name\": \"Японских иен\",\n",
      "            \"Value\": 68.763,\n",
      "            \"Previous\": 68.2939\n",
      "        }\n",
      "    }\n",
      "}\n"
     ]
    }
   ],
   "source": [
    "import requests    \n",
    "response = requests.get('https://www.cbr-xml-daily.ru/daily_json.js')    \n",
    "print(response.text)  "
   ]
  },
  {
   "cell_type": "markdown",
   "metadata": {},
   "source": [
    "Сейчас текст хранится просто в строковой переменной. Далее мы можем превратить эту строку в словарь. Сделать это можно с помощью JSON-парсера python, либо воспользовавшись методом json, который уже встроен в объект ответа response:"
   ]
  },
  {
   "cell_type": "code",
   "execution_count": 5,
   "metadata": {
    "scrolled": true
   },
   "outputs": [
    {
     "name": "stdout",
     "output_type": "stream",
     "text": [
      "{'Date': '2021-05-01T11:30:00+03:00', 'PreviousDate': '2021-04-30T11:30:00+03:00', 'PreviousURL': '//www.cbr-xml-daily.ru/archive/2021/04/30/daily_json.js', 'Timestamp': '2021-05-03T17:00:00+03:00', 'Valute': {'AUD': {'ID': 'R01010', 'NumCode': '036', 'CharCode': 'AUD', 'Nominal': 1, 'Name': 'Австралийский доллар', 'Value': 58.1546, 'Previous': 57.8546}, 'AZN': {'ID': 'R01020A', 'NumCode': '944', 'CharCode': 'AZN', 'Nominal': 1, 'Name': 'Азербайджанский манат', 'Value': 44.0524, 'Previous': 43.78}, 'GBP': {'ID': 'R01035', 'NumCode': '826', 'CharCode': 'GBP', 'Nominal': 1, 'Name': 'Фунт стерлингов Соединенного королевства', 'Value': 104.1694, 'Previous': 103.7782}, 'AMD': {'ID': 'R01060', 'NumCode': '051', 'CharCode': 'AMD', 'Nominal': 100, 'Name': 'Армянских драмов', 'Value': 14.3761, 'Previous': 14.3095}, 'BYN': {'ID': 'R01090B', 'NumCode': '933', 'CharCode': 'BYN', 'Nominal': 1, 'Name': 'Белорусский рубль', 'Value': 29.2398, 'Previous': 29.076}, 'BGN': {'ID': 'R01100', 'NumCode': '975', 'CharCode': 'BGN', 'Nominal': 1, 'Name': 'Болгарский лев', 'Value': 46.295, 'Previous': 46.0714}, 'BRL': {'ID': 'R01115', 'NumCode': '986', 'CharCode': 'BRL', 'Nominal': 1, 'Name': 'Бразильский реал', 'Value': 14.0201, 'Previous': 13.922}, 'HUF': {'ID': 'R01135', 'NumCode': '348', 'CharCode': 'HUF', 'Nominal': 100, 'Name': 'Венгерских форинтов', 'Value': 25.1737, 'Previous': 24.9789}, 'HKD': {'ID': 'R01200', 'NumCode': '344', 'CharCode': 'HKD', 'Nominal': 10, 'Name': 'Гонконгских долларов', 'Value': 96.3927, 'Previous': 95.8189}, 'DKK': {'ID': 'R01215', 'NumCode': '208', 'CharCode': 'DKK', 'Nominal': 1, 'Name': 'Датская крона', 'Value': 12.1771, 'Previous': 12.1185}, 'USD': {'ID': 'R01235', 'NumCode': '840', 'CharCode': 'USD', 'Nominal': 1, 'Name': 'Доллар США', 'Value': 74.8451, 'Previous': 74.3823}, 'EUR': {'ID': 'R01239', 'NumCode': '978', 'CharCode': 'EUR', 'Nominal': 1, 'Name': 'Евро', 'Value': 90.585, 'Previous': 90.1513}, 'INR': {'ID': 'R01270', 'NumCode': '356', 'CharCode': 'INR', 'Nominal': 10, 'Name': 'Индийских рупий', 'Value': 10.1059, 'Previous': 10.0513}, 'KZT': {'ID': 'R01335', 'NumCode': '398', 'CharCode': 'KZT', 'Nominal': 100, 'Name': 'Казахстанских тенге', 'Value': 17.4178, 'Previous': 17.3809}, 'CAD': {'ID': 'R01350', 'NumCode': '124', 'CharCode': 'CAD', 'Nominal': 1, 'Name': 'Канадский доллар', 'Value': 60.9637, 'Previous': 60.4341}, 'KGS': {'ID': 'R01370', 'NumCode': '417', 'CharCode': 'KGS', 'Nominal': 100, 'Name': 'Киргизских сомов', 'Value': 88.2325, 'Previous': 87.6869}, 'CNY': {'ID': 'R01375', 'NumCode': '156', 'CharCode': 'CNY', 'Nominal': 1, 'Name': 'Китайский юань', 'Value': 11.5657, 'Previous': 11.5036}, 'MDL': {'ID': 'R01500', 'NumCode': '498', 'CharCode': 'MDL', 'Nominal': 10, 'Name': 'Молдавских леев', 'Value': 42.2615, 'Previous': 41.9055}, 'NOK': {'ID': 'R01535', 'NumCode': '578', 'CharCode': 'NOK', 'Nominal': 10, 'Name': 'Норвежских крон', 'Value': 91.1001, 'Previous': 90.6184}, 'PLN': {'ID': 'R01565', 'NumCode': '985', 'CharCode': 'PLN', 'Nominal': 1, 'Name': 'Польский злотый', 'Value': 19.8433, 'Previous': 19.6534}, 'RON': {'ID': 'R01585F', 'NumCode': '946', 'CharCode': 'RON', 'Nominal': 1, 'Name': 'Румынский лей', 'Value': 18.375, 'Previous': 18.2906}, 'XDR': {'ID': 'R01589', 'NumCode': '960', 'CharCode': 'XDR', 'Nominal': 1, 'Name': 'СДР (специальные права заимствования)', 'Value': 107.6078, 'Previous': 106.7096}, 'SGD': {'ID': 'R01625', 'NumCode': '702', 'CharCode': 'SGD', 'Nominal': 1, 'Name': 'Сингапурский доллар', 'Value': 56.3593, 'Previous': 56.1079}, 'TJS': {'ID': 'R01670', 'NumCode': '972', 'CharCode': 'TJS', 'Nominal': 10, 'Name': 'Таджикских сомони', 'Value': 65.6248, 'Previous': 65.219}, 'TRY': {'ID': 'R01700J', 'NumCode': '949', 'CharCode': 'TRY', 'Nominal': 10, 'Name': 'Турецких лир', 'Value': 90.9407, 'Previous': 91.0666}, 'TMT': {'ID': 'R01710A', 'NumCode': '934', 'CharCode': 'TMT', 'Nominal': 1, 'Name': 'Новый туркменский манат', 'Value': 21.4149, 'Previous': 21.2825}, 'UZS': {'ID': 'R01717', 'NumCode': '860', 'CharCode': 'UZS', 'Nominal': 10000, 'Name': 'Узбекских сумов', 'Value': 71.2193, 'Previous': 70.739}, 'UAH': {'ID': 'R01720', 'NumCode': '980', 'CharCode': 'UAH', 'Nominal': 10, 'Name': 'Украинских гривен', 'Value': 26.9783, 'Previous': 26.8362}, 'CZK': {'ID': 'R01760', 'NumCode': '203', 'CharCode': 'CZK', 'Nominal': 10, 'Name': 'Чешских крон', 'Value': 35.0005, 'Previous': 34.8395}, 'SEK': {'ID': 'R01770', 'NumCode': '752', 'CharCode': 'SEK', 'Nominal': 10, 'Name': 'Шведских крон', 'Value': 89.1024, 'Previous': 88.9868}, 'CHF': {'ID': 'R01775', 'NumCode': '756', 'CharCode': 'CHF', 'Nominal': 1, 'Name': 'Швейцарский франк', 'Value': 82.2654, 'Previous': 81.6849}, 'ZAR': {'ID': 'R01810', 'NumCode': '710', 'CharCode': 'ZAR', 'Nominal': 10, 'Name': 'Южноафриканских рэндов', 'Value': 52.0658, 'Previous': 52.3878}, 'KRW': {'ID': 'R01815', 'NumCode': '410', 'CharCode': 'KRW', 'Nominal': 1000, 'Name': 'Вон Республики Корея', 'Value': 67.2396, 'Previous': 67.1463}, 'JPY': {'ID': 'R01820', 'NumCode': '392', 'CharCode': 'JPY', 'Nominal': 100, 'Name': 'Японских иен', 'Value': 68.763, 'Previous': 68.2939}}}\n"
     ]
    }
   ],
   "source": [
    "currencies = response.json()  \n",
    "print(currencies)  "
   ]
  },
  {
   "cell_type": "markdown",
   "metadata": {},
   "source": [
    "Теперь данные лежат в словаре, и мы можем легко получать необходимые нам значения:\n",
    "\n"
   ]
  },
  {
   "cell_type": "code",
   "execution_count": 6,
   "metadata": {},
   "outputs": [
    {
     "data": {
      "text/plain": [
       "{'ID': 'R01720',\n",
       " 'NumCode': '980',\n",
       " 'CharCode': 'UAH',\n",
       " 'Nominal': 10,\n",
       " 'Name': 'Украинских гривен',\n",
       " 'Value': 26.9783,\n",
       " 'Previous': 26.8362}"
      ]
     },
     "execution_count": 6,
     "metadata": {},
     "output_type": "execute_result"
    }
   ],
   "source": [
    "currencies['Valute']['UAH']  \n"
   ]
  },
  {
   "cell_type": "markdown",
   "metadata": {},
   "source": [
    "### Задание 1\n",
    "Повторите запросы, описанные в этой части, на своём компьютере. Что выведет на экран следующий код?"
   ]
  },
  {
   "cell_type": "code",
   "execution_count": 7,
   "metadata": {},
   "outputs": [
    {
     "name": "stdout",
     "output_type": "stream",
     "text": [
      "Чешских крон\n"
     ]
    }
   ],
   "source": [
    "print(currencies['Valute']['CZK']['Name'])"
   ]
  },
  {
   "cell_type": "markdown",
   "metadata": {},
   "source": [
    "### 4. Оформляем функцию\n"
   ]
  },
  {
   "cell_type": "markdown",
   "metadata": {},
   "source": [
    "В завершение давайте оформим наши вычисления в отдельную функцию, которой будет удобно пользоваться. На вход она должна принимать два параметра:\n",
    "\n",
    "1. Название валюты currency. Например, 'EUR' или 'USD'.\n",
    "\n",
    "2. Формат ответа format. При значении 'full' будем отдавать все, что знаем о валюте. Например, для currency = 'USD':\n",
    "\n"
   ]
  },
  {
   "cell_type": "code",
   "execution_count": 8,
   "metadata": {},
   "outputs": [
    {
     "data": {
      "text/plain": [
       "{'CharCode': 'USD',\n",
       " 'ID': 'R01235',\n",
       " 'Name': 'Доллар США',\n",
       " 'Nominal': 1,\n",
       " 'NumCode': '840',\n",
       " 'Previous': 68.2505,\n",
       " 'Value': 69.0286}"
      ]
     },
     "execution_count": 8,
     "metadata": {},
     "output_type": "execute_result"
    }
   ],
   "source": [
    "{'CharCode': 'USD',  \n",
    "   'ID': 'R01235',  \n",
    "   'Name': 'Доллар США',  \n",
    "   'Nominal': 1,  \n",
    "   'NumCode': '840',  \n",
    "   'Previous': 68.2505,  \n",
    "   'Value': 69.0286}  "
   ]
  },
  {
   "cell_type": "markdown",
   "metadata": {},
   "source": [
    "А при значении format = 'value' только значение ключа 'Value', т. е. курс: 69.0286.\n",
    "\n",
    "Оформим наши требования в коде:"
   ]
  },
  {
   "cell_type": "code",
   "execution_count": 9,
   "metadata": {},
   "outputs": [],
   "source": [
    "def exchange_rates(currency, format='full'):    \n",
    "    url = 'https://www.cbr-xml-daily.ru/daily_json.js'  \n",
    "    response = requests.get(url).json()['Valute']    \n",
    "    data = response[currency]     \n",
    "    if format == 'full':    \n",
    "        return data      \n",
    "    elif format == 'value':    \n",
    "        return data['Value']    "
   ]
  },
  {
   "cell_type": "markdown",
   "metadata": {},
   "source": [
    "### Задание 1\n",
    "Напишите функцию currency_name, которая по ID валюты возвращает ее название на русском языке.\n",
    "\n",
    "currency_name('R01700J')\n",
    "#=> 'Турецких лир' "
   ]
  },
  {
   "cell_type": "code",
   "execution_count": 10,
   "metadata": {},
   "outputs": [],
   "source": [
    "def currency_name(currency_id):\n",
    "    url = 'https://www.cbr-xml-daily.ru/daily_json.js'\n",
    "    response = requests.get(url).json()['Valute']\n",
    "    \n",
    "    for currency in response:\n",
    "        if response[currency]['ID'] == currency_id:\n",
    "            return response[currency]['Name']"
   ]
  },
  {
   "cell_type": "code",
   "execution_count": 11,
   "metadata": {},
   "outputs": [
    {
     "data": {
      "text/plain": [
       "'Турецких лир'"
      ]
     },
     "execution_count": 11,
     "metadata": {},
     "output_type": "execute_result"
    }
   ],
   "source": [
    "currency_name('R01700J')"
   ]
  },
  {
   "cell_type": "code",
   "execution_count": null,
   "metadata": {},
   "outputs": [],
   "source": []
  }
 ],
 "metadata": {
  "kernelspec": {
   "display_name": "Python 3",
   "language": "python",
   "name": "python3"
  },
  "language_info": {
   "codemirror_mode": {
    "name": "ipython",
    "version": 3
   },
   "file_extension": ".py",
   "mimetype": "text/x-python",
   "name": "python",
   "nbconvert_exporter": "python",
   "pygments_lexer": "ipython3",
   "version": "3.8.3"
  }
 },
 "nbformat": 4,
 "nbformat_minor": 4
}
